{
 "cells": [
  {
   "cell_type": "markdown",
   "metadata": {},
   "source": [
    "# core\n",
    "\n",
    "> Fill in a module description here"
   ]
  },
  {
   "cell_type": "code",
   "execution_count": null,
   "metadata": {},
   "outputs": [],
   "source": [
    "#| default_exp core"
   ]
  },
  {
   "cell_type": "code",
   "execution_count": null,
   "metadata": {},
   "outputs": [],
   "source": [
    "#| hide\n",
    "from nbdev.showdoc import *"
   ]
  },
  {
   "cell_type": "code",
   "execution_count": null,
   "metadata": {},
   "outputs": [],
   "source": [
    "#| export\n",
    "#| hide\n",
    "import nbformat\n",
    "from nbformat.v4 import new_notebook, new_markdown_cell, new_code_cell\n",
    "\n",
    "from configparser import ConfigParser "
   ]
  },
  {
   "cell_type": "code",
   "execution_count": null,
   "metadata": {},
   "outputs": [],
   "source": [
    "#| export\n",
    "\n",
    "class NotebookParser(object):\n",
    "    \"\"\"\n",
    "    NotebookParser\n",
    "    \"\"\"\n",
    "    def __init__(self):\n",
    "        self._repo_string = None\n",
    "\n",
    "    @property\n",
    "    def repo_string(self):\n",
    "        \"\"\"str: Return the repository name.\"\"\"\n",
    "        if self._repo_string == None:\n",
    "            configure = ConfigParser() \n",
    "            configure.read('settings.ini') \n",
    "            lib_path = configure.get('DEFAULT','lib_path')\n",
    "            self._repo_string = lib_path\n",
    "        return self._repo_string\n",
    "    \n",
    "    def module_filename(self, index_str, module_name):\n",
    "        \"\"\"str: Return the module filename.\"\"\"\n",
    "        return f\"{index_str}_{module_name}.ipynb\"\n"
   ]
  },
  {
   "cell_type": "code",
   "execution_count": null,
   "metadata": {},
   "outputs": [],
   "source": [
    "#| export tests/test_core\n",
    "#| hide \n",
    "\n",
    "import unittest\n",
    "\n",
    "class TestNotebookParser(unittest.TestCase):\n",
    "    \n",
    "    def test_repo_string(self):\n",
    "        notebook_parser = NotebookParser()\n",
    "        self.assertEqual(notebook_parser.repo_string, 'nbdev_unittest')\n",
    "    \n",
    "    def test_module_filename(self):\n",
    "        test_index_str = '02'\n",
    "        test_module_name = 'ModuleA'\n",
    "        \n",
    "        notebook_parser = NotebookParser()\n",
    "        self.assertEqual(notebook_parser.module_filename(test_index_str, test_module_name), '02_ModuleA.ipynb')"
   ]
  },
  {
   "cell_type": "code",
   "execution_count": null,
   "metadata": {},
   "outputs": [],
   "source": [
    "#| eval: false\n",
    "#| hide\n",
    "\n",
    "unittest.main(argv=[''], verbosity=2, exit=False)"
   ]
  },
  {
   "cell_type": "code",
   "execution_count": null,
   "metadata": {},
   "outputs": [],
   "source": [
    "#| hide\n",
    "import nbdev; nbdev.nbdev_export()"
   ]
  },
  {
   "cell_type": "code",
   "execution_count": null,
   "metadata": {},
   "outputs": [],
   "source": []
  }
 ],
 "metadata": {
  "kernelspec": {
   "display_name": "python3",
   "language": "python",
   "name": "python3"
  }
 },
 "nbformat": 4,
 "nbformat_minor": 4
}
