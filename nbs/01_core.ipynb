{
 "cells": [
  {
   "cell_type": "markdown",
   "metadata": {},
   "source": [
    "# core\n",
    "\n",
    "> Fill in a module description here"
   ]
  },
  {
   "cell_type": "code",
   "execution_count": null,
   "metadata": {},
   "outputs": [],
   "source": [
    "#| default_exp core"
   ]
  },
  {
   "cell_type": "code",
   "execution_count": null,
   "metadata": {},
   "outputs": [],
   "source": [
    "#| export\n",
    "\n",
    "import nbformat\n",
    "from nbformat.v4 import new_notebook, new_markdown_cell, new_code_cell\n",
    "\n",
    "from configparser import ConfigParser "
   ]
  },
  {
   "cell_type": "code",
   "execution_count": null,
   "metadata": {},
   "outputs": [],
   "source": [
    "#| export\n",
    "\n",
    "class NotebookParser(object):\n",
    "    \"\"\"\n",
    "    NotebookParser\n",
    "\n",
    "    \n",
    "    \"\"\"\n",
    "    def __init__(self, module_name):\n",
    "        self._module_name = module_name\n",
    "        self._repo_string = None\n",
    "\n",
    "    @property\n",
    "    def repo_string(self):\n",
    "        \"\"\"str: Return the repository name.\"\"\"\n",
    "        if self._repo_string == None:\n",
    "            configure = ConfigParser() \n",
    "            configure.read('settings.ini') \n",
    "            lib_path = configure.get('DEFAULT','lib_path')\n",
    "            self._repo_string = lib_path\n",
    "        return self._repo_string\n",
    "    \n",
    "    def module_filename(self, index_str):\n",
    "        \"\"\"str: Return the module filename.\"\"\"\n",
    "        return f\"{index_str}_{self._module_name}.ipynb\"\n",
    "    \n",
    "    @property\n",
    "    def default_exp_module_string(self):\n",
    "        \"\"\"str: Return the 'default_exp' module string.\"\"\"\n",
    "        return f'#| default_exp {self._module_name}'\n",
    "    \n",
    "    @property\n",
    "    def unittest_class_string(self):\n",
    "        \"\"\"str: Return the unittest class string.\"\"\"\n",
    "        return f'Test{self._module_name[0].upper() + self._module_name[1:]}'\n",
    "    \n",
    "    @property\n",
    "    def unittest_module_string(self):\n",
    "        \"\"\"str: Return the unittest module string.\"\"\"\n",
    "        return f'tests/test_{self._module_name}'\n",
    "    \n",
    "    @property\n",
    "    def export_string(self):\n",
    "        return \"#| hide \\nimport nbdev; nbdev.nbdev_export()\"\n",
    "    \n",
    "  \n"
   ]
  },
  {
   "cell_type": "code",
   "execution_count": null,
   "metadata": {},
   "outputs": [],
   "source": [
    "#| export tests/test_core\n",
    "\n",
    "import unittest"
   ]
  },
  {
   "cell_type": "code",
   "execution_count": null,
   "metadata": {},
   "outputs": [],
   "source": [
    "#| export tests/test_core\n",
    "\n",
    "class TestNotebookParser(unittest.TestCase):\n",
    "\n",
    "    def setUp(self):\n",
    "        self.test_module_name = 'moduleA'\n",
    "        self.test_index_str = '02'\n",
    "    \n",
    "    def test_repo_string(self):\n",
    "        notebook_parser = NotebookParser(self.test_module_name)\n",
    "        self.assertEqual(notebook_parser.repo_string, 'nbdev_unittest')\n",
    "    \n",
    "    def test_module_filename(self):\n",
    "        notebook_parser = NotebookParser(self.test_module_name)\n",
    "        self.assertEqual(notebook_parser.module_filename(self.test_index_str), '02_moduleA.ipynb')\n",
    "    \n",
    "    def test_default_exp_module_string(self):\n",
    "        notebook_parser = NotebookParser(self.test_module_name)\n",
    "        self.assertEqual(notebook_parser.default_exp_module_string, '#| default_exp moduleA')\n",
    "    \n",
    "    def test_unittest_class_string(self):\n",
    "        notebook_parser = NotebookParser(self.test_module_name)\n",
    "        self.assertEqual(notebook_parser.unittest_class_string, 'TestModuleA')\n",
    "\n",
    "    def test_unittest_module_string(self):\n",
    "        notebook_parser = NotebookParser(self.test_module_name)\n",
    "        self.assertEqual(notebook_parser.unittest_module_string, 'tests/test_moduleA')\n",
    "\n",
    "    def test_export_string(self):\n",
    "        notebook_parser = NotebookParser(self.test_module_name)\n",
    "        self.assertEqual(notebook_parser.export_string, '#| hide \\nimport nbdev; nbdev.nbdev_export()')\n"
   ]
  },
  {
   "cell_type": "code",
   "execution_count": null,
   "metadata": {},
   "outputs": [
    {
     "name": "stderr",
     "output_type": "stream",
     "text": [
      "test_default_exp_module_string (__main__.TestNotebookParser.test_default_exp_module_string) ... ok\n",
      "test_export_string (__main__.TestNotebookParser.test_export_string) ... ok\n",
      "test_module_filename (__main__.TestNotebookParser.test_module_filename) ... ok\n",
      "test_repo_string (__main__.TestNotebookParser.test_repo_string) ... ERROR\n",
      "test_unittest_class_string (__main__.TestNotebookParser.test_unittest_class_string) ... ok\n",
      "test_unittest_module_string (__main__.TestNotebookParser.test_unittest_module_string) ... ok\n",
      "\n",
      "======================================================================\n",
      "ERROR: test_repo_string (__main__.TestNotebookParser.test_repo_string)\n",
      "----------------------------------------------------------------------\n",
      "Traceback (most recent call last):\n",
      "  File \"/Users/drinkslist/opt/anaconda3/envs/nbdev/lib/python3.12/configparser.py\", line 767, in get\n",
      "    value = d[option]\n",
      "            ~^^^^^^^^\n",
      "  File \"/Users/drinkslist/opt/anaconda3/envs/nbdev/lib/python3.12/collections/__init__.py\", line 1015, in __getitem__\n",
      "    return self.__missing__(key)            # support subclasses that define __missing__\n",
      "           ^^^^^^^^^^^^^^^^^^^^^\n",
      "  File \"/Users/drinkslist/opt/anaconda3/envs/nbdev/lib/python3.12/collections/__init__.py\", line 1007, in __missing__\n",
      "    raise KeyError(key)\n",
      "KeyError: 'lib_path'\n",
      "\n",
      "During handling of the above exception, another exception occurred:\n",
      "\n",
      "Traceback (most recent call last):\n",
      "  File \"/var/folders/7c/1sh_q_qx3qqczm2tl893tr0r0000gn/T/ipykernel_17458/725484729.py\", line 11, in test_repo_string\n",
      "    self.assertEqual(notebook_parser.repo_string, 'nbdev_unittest')\n",
      "                     ^^^^^^^^^^^^^^^^^^^^^^^^^^^\n",
      "  File \"/var/folders/7c/1sh_q_qx3qqczm2tl893tr0r0000gn/T/ipykernel_17458/2786471049.py\", line 19, in repo_string\n",
      "    lib_path = configure.get('DEFAULT','lib_path')\n",
      "               ^^^^^^^^^^^^^^^^^^^^^^^^^^^^^^^^^^^\n",
      "  File \"/Users/drinkslist/opt/anaconda3/envs/nbdev/lib/python3.12/configparser.py\", line 770, in get\n",
      "    raise NoOptionError(option, section)\n",
      "configparser.NoOptionError: No option 'lib_path' in section: 'DEFAULT'\n",
      "\n",
      "----------------------------------------------------------------------\n",
      "Ran 6 tests in 0.026s\n",
      "\n",
      "FAILED (errors=1)\n"
     ]
    },
    {
     "data": {
      "text/plain": [
       "<unittest.main.TestProgram>"
      ]
     },
     "execution_count": null,
     "metadata": {},
     "output_type": "execute_result"
    }
   ],
   "source": [
    "#| eval: false\n",
    "#| hide\n",
    "\n",
    "unittest.main(argv=[''], verbosity=2, exit=False)"
   ]
  },
  {
   "cell_type": "code",
   "execution_count": null,
   "metadata": {},
   "outputs": [],
   "source": [
    "#| hide\n",
    "import nbdev; nbdev.nbdev_export()"
   ]
  },
  {
   "cell_type": "code",
   "execution_count": null,
   "metadata": {},
   "outputs": [],
   "source": []
  }
 ],
 "metadata": {
  "kernelspec": {
   "display_name": "python3",
   "language": "python",
   "name": "python3"
  }
 },
 "nbformat": 4,
 "nbformat_minor": 4
}
