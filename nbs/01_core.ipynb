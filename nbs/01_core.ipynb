{
 "cells": [
  {
   "cell_type": "markdown",
   "metadata": {},
   "source": [
    "# core\n",
    "\n",
    "> Fill in a module description here"
   ]
  },
  {
   "cell_type": "code",
   "execution_count": null,
   "metadata": {},
   "outputs": [],
   "source": [
    "#| default_exp core"
   ]
  },
  {
   "cell_type": "code",
   "execution_count": null,
   "metadata": {},
   "outputs": [],
   "source": [
    "#| hide\n",
    "from nbdev.showdoc import *"
   ]
  },
  {
   "cell_type": "code",
   "execution_count": null,
   "metadata": {},
   "outputs": [],
   "source": [
    "#| export\n",
    "#| hide\n",
    "import nbformat\n",
    "from nbformat.v4 import new_notebook, new_markdown_cell, new_code_cell\n",
    "\n",
    "from configparser import ConfigParser "
   ]
  },
  {
   "cell_type": "code",
   "execution_count": null,
   "metadata": {},
   "outputs": [],
   "source": [
    "#| export\n",
    "\n",
    "class NotebookParser(object):\n",
    "    \"\"\"\n",
    "    NotebookParser\n",
    "    \"\"\"\n",
    "    def __init__(self):\n",
    "        self._repo_string = None\n",
    "\n",
    "    @property\n",
    "    def repo_string(self):\n",
    "        \"\"\"str: Return the repository string.\"\"\"\n",
    "        if self._repo_string == None:\n",
    "            configure = ConfigParser() \n",
    "            configure.read('settings.ini') \n",
    "            lib_path = configure.get('DEFAULT','lib_path')\n",
    "            self._repo_string = lib_path\n",
    "        return self._repo_string\n"
   ]
  },
  {
   "cell_type": "code",
   "execution_count": null,
   "metadata": {},
   "outputs": [],
   "source": [
    "#| export tests/test_core\n",
    "#| hide \n",
    "\n",
    "import unittest\n",
    "\n",
    "class TestNotebookParser(unittest.TestCase):\n",
    "    \n",
    "    def test_repo_string(self):\n",
    "        notebook_parser = NotebookParser()\n",
    "        self.assertEqual(notebook_parser.repo_string, 'nbdev_unittest')"
   ]
  },
  {
   "cell_type": "code",
   "execution_count": null,
   "metadata": {},
   "outputs": [],
   "source": [
    "#| eval: false\n",
    "#| hide\n",
    "\n",
    "unittest.main(argv=[''], verbosity=2, exit=False)"
   ]
  },
  {
   "cell_type": "code",
   "execution_count": null,
   "metadata": {},
   "outputs": [],
   "source": [
    "#| hide\n",
    "import nbdev; nbdev.nbdev_export()"
   ]
  },
  {
   "cell_type": "code",
   "execution_count": null,
   "metadata": {},
   "outputs": [],
   "source": []
  }
 ],
 "metadata": {
  "kernelspec": {
   "display_name": "python3",
   "language": "python",
   "name": "python3"
  }
 },
 "nbformat": 4,
 "nbformat_minor": 4
}
